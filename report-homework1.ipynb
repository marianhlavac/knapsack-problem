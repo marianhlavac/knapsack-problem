{
 "cells": [
  {
   "cell_type": "markdown",
   "metadata": {},
   "source": [
    "# MI-PAA, Úloha 1: Řešení problému batohu metodou hrubé síly a jednoduchou heuristikou\n",
    "\n",
    "**Marián Hlaváč**, 18 Oct 2017 (hlavam30)  \n",
    "marian.hlavac@fit.cvut.cz\n",
    "\n",
    "## Zadání úlohy\n",
    "\n",
    "- Naprogramujte řešení problému batohu hrubou silou (tj. exaktně). Na zkušebních datech pozorujte závislost výpočetního času na n.\n",
    "- Naprogramujte řešení problému batohu heuristikou podle poměru cena/váha. Pozorujte\n",
    "  závislost výpočetního času na n. Grafy jsou vítány (i pro exaktní metodu).\n",
    "  průměrnou a maximální relativní chybu (tj. zhoršení proti exaktní metodě) v závislosti na n.\n"
   ]
  },
  {
   "cell_type": "markdown",
   "metadata": {},
   "source": [
    "## Možné varianty řešení\n",
    "dfgsdgsdfg\n",
    "\n",
    "## Popis postupu řešení\n",
    "dgdsgdsg\n",
    "\n",
    "### Kostra algoritmu\n",
    "dfsgsdfgdsf"
   ]
  },
  {
   "cell_type": "markdown",
   "metadata": {},
   "source": [
    "## Surová naměřená (raw) data"
   ]
  },
  {
   "cell_type": "code",
   "execution_count": null,
   "metadata": {},
   "outputs": [],
   "source": [
    "import pandas as pd\n",
    "\n",
    "data = pd.read_csv(\"results.csv\")\n",
    "\n",
    "data"
   ]
  },
  {
   "cell_type": "markdown",
   "metadata": {},
   "source": [
    "## Výsledky měření\n",
    "dsfgdsfgdgdfs"
   ]
  },
  {
   "cell_type": "markdown",
   "metadata": {},
   "source": [
    "## Závěr\n",
    "dfgsdfgsgfhfghf"
   ]
  },
  {
   "cell_type": "code",
   "execution_count": null,
   "metadata": {},
   "outputs": [],
   "source": []
  }
 ],
 "metadata": {
  "kernelspec": {
   "display_name": "Python 3",
   "language": "python",
   "name": "python3"
  },
  "language_info": {
   "codemirror_mode": {
    "name": "ipython",
    "version": 3
   },
   "file_extension": ".py",
   "mimetype": "text/x-python",
   "name": "python",
   "nbconvert_exporter": "python",
   "pygments_lexer": "ipython3",
   "version": "3.6.3"
  }
 },
 "nbformat": 4,
 "nbformat_minor": 2
}
