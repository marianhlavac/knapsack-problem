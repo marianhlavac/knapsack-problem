{
 "cells": [
  {
   "cell_type": "markdown",
   "metadata": {},
   "source": [
    "# MI-PAA, Úloha 1: Řešení problému batohu metodou hrubé síly a jednoduchou heuristikou\n",
    "\n",
    "**Marián Hlaváč**, 18 Oct 2017 (hlavam30)  \n",
    "marian.hlavac@fit.cvut.cz  \n",
    "https://github.com/mmajko/knapsack-problem\n",
    "\n",
    "## Zadání úlohy\n",
    "\n",
    "- Naprogramujte řešení problému batohu hrubou silou (tj. exaktně). Na zkušebních datech pozorujte závislost výpočetního času na n.\n",
    "- Naprogramujte řešení problému batohu heuristikou podle poměru cena/váha. Pozorujte\n",
    "  závislost výpočetního času na n, průměrnou a maximální relativní chybu (tj. zhoršení proti exaktní metodě) v závislosti na n.\n"
   ]
  },
  {
   "cell_type": "markdown",
   "metadata": {},
   "source": [
    "## Možné varianty řešení\n",
    "dfgsdgsdfg\n",
    "\n",
    "## Popis postupu řešení\n",
    "dgdsgdsg\n",
    "\n",
    "### Kostra algoritmu\n",
    "dfsgsdfgdsf"
   ]
  },
  {
   "cell_type": "code",
   "execution_count": null,
   "metadata": {},
   "outputs": [],
   "source": [
    "import pandas as pd\n",
    "import numpy as np\n",
    "import matplotlib.pyplot as plt\n",
    "import matplotlib\n",
    "\n",
    "%matplotlib inline\n",
    "matplotlib.rcParams['figure.figsize'] = (10.0, 5.0)\n",
    "matplotlib.style.use('ggplot')"
   ]
  },
  {
   "cell_type": "markdown",
   "metadata": {},
   "source": [
    "## Surová naměřená (raw) data"
   ]
  },
  {
   "cell_type": "code",
   "execution_count": null,
   "metadata": {},
   "outputs": [],
   "source": [
    "data = pd.read_csv(\"results.csv\")\n",
    "data"
   ]
  },
  {
   "cell_type": "markdown",
   "metadata": {},
   "source": [
    "## Výsledky měření\n",
    "dsfgdsfgdgdfs"
   ]
  },
  {
   "cell_type": "code",
   "execution_count": null,
   "metadata": {},
   "outputs": [],
   "source": [
    "grouped = data.groupby(['method'])\n",
    "\n",
    "grouped.sum()[['elapsed_ms']]"
   ]
  },
  {
   "cell_type": "markdown",
   "metadata": {},
   "source": [
    "### Rychlost řešení hrubou silou"
   ]
  },
  {
   "cell_type": "code",
   "execution_count": null,
   "metadata": {},
   "outputs": [],
   "source": [
    "bruteforce = data[data['method'] == 'Bruteforce']\n",
    "mean_bruteforce = bruteforce.groupby('item_count').mean()[['elapsed_ms']]\n",
    "\n",
    "mean_bruteforce"
   ]
  },
  {
   "cell_type": "code",
   "execution_count": null,
   "metadata": {},
   "outputs": [],
   "source": [
    "# Závislost výpočetního času na n (počtu předmětů)\n",
    "\n",
    "mean_bruteforce.cumsum().plot()"
   ]
  },
  {
   "cell_type": "markdown",
   "metadata": {},
   "source": [
    "### Rychlost řešení jednoduchou heuristikou"
   ]
  },
  {
   "cell_type": "code",
   "execution_count": null,
   "metadata": {},
   "outputs": [],
   "source": [
    "heuristic = data[data['method'] == 'Heuristic']\n",
    "mean_heuristic = heuristic.groupby('item_count').mean()[['elapsed_ms']]\n",
    "\n",
    "mean_heuristic"
   ]
  },
  {
   "cell_type": "code",
   "execution_count": null,
   "metadata": {},
   "outputs": [],
   "source": [
    "# Závislost výpočetního času na n (počtu předmětů)\n",
    "\n",
    "mean_heuristic.cumsum().plot()"
   ]
  },
  {
   "cell_type": "markdown",
   "metadata": {},
   "source": [
    "### Porovnání obou metod"
   ]
  },
  {
   "cell_type": "code",
   "execution_count": null,
   "metadata": {},
   "outputs": [],
   "source": [
    "# Rychlost řešení obou metod\n",
    "pd.concat([mean_bruteforce, mean_heuristic], axis=1).plot().legend(['Bruteforce elapsed_ms','Heuristic elapsed_ms'])"
   ]
  },
  {
   "cell_type": "markdown",
   "metadata": {},
   "source": [
    "## Závěr\n",
    "dfgsdfgsgfhfghf\n",
    "\n",
    "Zdrojové soubory úlohy lze najít na GitHubu. Link je uveden v hlavičce zprávy."
   ]
  },
  {
   "cell_type": "code",
   "execution_count": null,
   "metadata": {},
   "outputs": [],
   "source": []
  }
 ],
 "metadata": {
  "kernelspec": {
   "display_name": "Python 3",
   "language": "python",
   "name": "python3"
  },
  "language_info": {
   "codemirror_mode": {
    "name": "ipython",
    "version": 3
   },
   "file_extension": ".py",
   "mimetype": "text/x-python",
   "name": "python",
   "nbconvert_exporter": "python",
   "pygments_lexer": "ipython3",
   "version": "3.6.3"
  }
 },
 "nbformat": 4,
 "nbformat_minor": 2
}
