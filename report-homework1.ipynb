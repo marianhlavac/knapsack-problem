{
 "cells": [
  {
   "cell_type": "markdown",
   "metadata": {},
   "source": [
    "# MI-PAA, Úloha 1: Řešení problému batohu metodou hrubé síly a jednoduchou heuristikou\n",
    "\n",
    "**Marián Hlaváč**, 18 Oct 2017 (hlavam30)  \n",
    "marian.hlavac@fit.cvut.cz  \n",
    "https://github.com/mmajko/knapsack-problem\n",
    "\n",
    "## Zadání úlohy\n",
    "\n",
    "- Naprogramujte řešení problému batohu hrubou silou (tj. exaktně). Na zkušebních datech pozorujte závislost výpočetního času na n.\n",
    "- Naprogramujte řešení problému batohu heuristikou podle poměru cena/váha. Pozorujte\n",
    "  závislost výpočetního času na n, průměrnou a maximální relativní chybu (tj. zhoršení proti exaktní metodě) v závislosti na n.\n"
   ]
  },
  {
   "cell_type": "markdown",
   "metadata": {},
   "source": [
    "## Možné varianty řešení\n",
    "\n",
    "Problém batohu je možné řešit hrubou silou, heuristicky, dynamickým programováním, algoritmem \"meet-in-the-middle\" a dalšími způsoby. Heuristická metoda řešení se dále dělí i podle zvolené heuristiky, např. jednoduchá greedy heuristika upřednostňuje nejdražší předměty. Takových heuristik existuje více, liší se rychlostí i komplexitou.\n",
    "\n",
    "Zvolenou variantou pro první úlohu jsou řešení hrubou silou a jednoduchou heuristikou využívající poměr cena/váha u jednotlivých předmětů.\n",
    "\n",
    "## Popis postupu řešení\n",
    "\n",
    "Algoritmus a celý program poskytující výsledky je napsán v jazyce *Rust*. Tento program načte instance z předpřipravených datových souborů určených pro tuto úlohu a vypočte řešení hrubou silou a řešení za pomoci heuristiky. Zapíše délku provádění výpočtu a všechna data poskytne v CSV formátu.\n",
    "\n",
    "Druhým nástrojem je pak *Jupyter Notebook*, ve kterém se poskytnutá data zpracují a vizualizují, zapíšou se výsledky těchto měření výpočtů a sepíše se zpráva.\n",
    "\n",
    "### Kostra algoritmu\n",
    "\n",
    "Kompletně celý algoritmus je k nahlédnutí ve zdrojových souborech programu. Pro rychlou představu je níže uveden krátký náhled na algoritmus výpočtu za pomoci heuristiky v jazyce Rust, který je aktuálně použit pro výsledky uvedené níže.\n",
    "\n",
    "```rust\n",
    "...\n",
    "fn solve_heuristic(knap: &Knapsack) -> (u16, u16, u32) {\n",
    "    let mut items: Vec<(usize, &KnapItem)> = knap.items.iter().enumerate().collect();\n",
    "    items.sort_unstable_by(|a, b| (a.1.price / a.1.weight).cmp(&(b.1.price / b.1.weight)));\n",
    "    \n",
    "    let mut result_items: Vec<&KnapItem> = vec![];\n",
    "    let mut total_weight = 0;\n",
    "    for item in items {\n",
    "        if item.1.weight + total_weight <= knap.capacity {\n",
    "            result_items.push(item.1);\n",
    "            total_weight += item.1.weight;\n",
    "        } else {\n",
    "            break;\n",
    "        }\n",
    "    }\n",
    "...\n",
    "```\n",
    "\n",
    "Při výpočtu hrubou silou jsou pro každou jednotlivou instanci vyzkoušeny všechny kombinace umístění předmětů do batohu a následně je vybrána ta nejlepší vhodná (optimální). U této metody si můžeme být jisti, za předpokladu, že je výpočet kompletní, že jsme nalezli optimální řešení. \n",
    "\n",
    "Implementační detaily řešení lze nalézt ve zdrojových kódech. Byla použita bitová maska přítomnosti předmětu v batohu.\n",
    "\n",
    "Výpočet heuristikou pak spočívá v seřazení pole předmětů podle kritéria heuristiky. Z tohoto pole jsou pak vybírány předměty do vyčerpání jeho kapacity."
   ]
  },
  {
   "cell_type": "markdown",
   "metadata": {},
   "source": [
    "## Surová naměřená (raw) data\n",
    "\n",
    "Níže uvedená tabulka je náhled na kompletní surová výstupní data z programu. Data můžete sami (např. pro kontrolu) získat jednoduchým způsobem - spuštěním skriptu `generate.sh`, který vytvoří soubor `results.csv` obsahující tato data.\n",
    "\n",
    "### Sloupce\n",
    "\n",
    "Názvy sloupců se vyskytují i dále v textu, zde je jejich stručný popis:\n",
    "\n",
    "- **knap_id** - identifikátor instance\n",
    "- **item_count** - počet předmětů (konfigurace instance)\n",
    "- **capacity** - kapacita batohu\n",
    "- **method** - metoda výpočtu\n",
    "  - *Bruteforce* je výpočet hrubou silou, *Heuristic* je heuristický výpočet (heuristika poměru váha/cena)\n",
    "- **price** - vypočtená celková cena batohu\n",
    "- **weight** - vypočtená celková váha batohu\n",
    "- **bitmask** - bitmaska (jednoznačný identifikátor, maska přítomnosti předmětu) řešení\n",
    "- **elapsed_ms** - doba výpočtu v milisekundách\n",
    "- **optimal_price** - optimální cena batohu"
   ]
  },
  {
   "cell_type": "code",
   "execution_count": null,
   "metadata": {},
   "outputs": [],
   "source": [
    "import pandas as pd\n",
    "import numpy as np\n",
    "import matplotlib.pyplot as plt\n",
    "import matplotlib\n",
    "\n",
    "# Konfigurace vizualizace dat\n",
    "%matplotlib inline\n",
    "matplotlib.rcParams['figure.figsize'] = (10.0, 5.0)\n",
    "matplotlib.style.use('ggplot')\n",
    "pd.options.display.max_rows = 10\n",
    "\n",
    "# Čtení dat z běhu programu\n",
    "raw = pd.read_csv(\"results.csv\")\n",
    "solutions = pd.read_csv(\"solutions.csv\")\n",
    "\n",
    "data = pd.merge(left=raw, right=solutions, on='knap_id').drop('item_count_y', axis=1)\n",
    "data = data.rename(columns={\n",
    "                'price_x': 'price', \n",
    "                'price_y': 'optimal_price', \n",
    "                'item_count_x': 'item_count'\n",
    "            })\n",
    "\n",
    "data"
   ]
  },
  {
   "cell_type": "markdown",
   "metadata": {},
   "source": [
    "## Výsledky měření\n",
    "\n",
    "Níže jsou uvedeny výsledky derivované z dat. Rychlosti řešení jsou seskupeny podle počtu předmětů a zprůměrovány. Výsledné průměrné časy jsou ke každé metodě řešení uvedeny jak tabulkou, tak grafem.\n",
    "\n",
    "Měřítko grafů je lineární na vertikální ose."
   ]
  },
  {
   "cell_type": "markdown",
   "metadata": {},
   "source": [
    "### Rychlost řešení hrubou silou\n",
    "\n",
    "Měření hrubou silou je výpočetně náročná metoda. Složitost je `O(2^n)`, takže lze očekávat rapidně vzrůstající trend doby nutné pro dokončení výpočtu touto metodou."
   ]
  },
  {
   "cell_type": "code",
   "execution_count": null,
   "metadata": {},
   "outputs": [],
   "source": [
    "# Výpis dat pro bruteforce metodu\n",
    "bruteforce = data[data['method'] == 'Bruteforce']\n",
    "mean_bruteforce = bruteforce.groupby('item_count').mean()[['elapsed_ms']]\n",
    "\n",
    "mean_bruteforce"
   ]
  },
  {
   "cell_type": "code",
   "execution_count": null,
   "metadata": {},
   "outputs": [],
   "source": [
    "# Vykreslení grafu dat pro bruteforce metodu\n",
    "mean_bruteforce.plot(\n",
    "    title = 'Závislost výpočetního času hrubou silou na n (počtu předmětů)',\n",
    "    kind = 'bar',\n",
    ")"
   ]
  },
  {
   "cell_type": "markdown",
   "metadata": {},
   "source": [
    "Na výsledných datech lze pozorovat velmi rychle vzrůstající časovou závislost na počtu předmětů.\n",
    "\n",
    "Díky složitosti `O(2^n)` obecně platí, že přidání jednoho dalšího předmětů zdvojnásobí celý výpočetní čas. Na výsledných datech lze tuto vlastnost snadno pozorovat.\n",
    "\n",
    "Kupříkladu pro 20 předmětů byla průměrná doba výpočtu `266 ms`. Pro 22 předmětů `1100 ms`. To je 4.13 násobek původního čísla, šlo o rozdíl dvou předmětů, tudíž dvojnásobek času za každý přidaný předmět skutečně odpovídá."
   ]
  },
  {
   "cell_type": "markdown",
   "metadata": {},
   "source": [
    "### Rychlost řešení jednoduchou heuristikou\n",
    "\n",
    "Rychlost řešení heuristikou by měla být podstatně méně časově náročná, než výpočet hrubou silou.\n",
    "\n",
    "Jelikož je v průběhu řešení řazeno pole podle heuristiky, lze očekávat, že se vzrůstajícím počtem předmětů v poli se prodlouží i doba řazení tohoto pole.\n",
    "\n",
    "Řazení pole má na starosti funkce jazyka *Rust* `Vec::sort_unstable_by()`, která slibuje složitost O(n log n) a je založena na [pattern-defeating quicksortu](https://github.com/orlp/pdqsort).\n",
    "\n",
    "Zbytek algoritmu po seřazení je lineární (složitost v této části nezávisí na **n**, tedy počtu předmětů, ale na kapacitě batohu a velikosti předmětů - irelevantní pro naše pozorování)."
   ]
  },
  {
   "cell_type": "code",
   "execution_count": null,
   "metadata": {},
   "outputs": [],
   "source": [
    "# Výpis dat pro heuristickou metodu\n",
    "heuristic = data[data['method'] == 'Heuristic']\n",
    "mean_heuristic = heuristic.groupby('item_count').mean()[['elapsed_ms']]\n",
    "\n",
    "mean_heuristic"
   ]
  },
  {
   "cell_type": "code",
   "execution_count": null,
   "metadata": {},
   "outputs": [],
   "source": [
    "# Vykreslení grafu pro heuristickou metodu\n",
    "mean_heuristic.cumsum().plot(\n",
    "    title = 'Závislost výpočetního času heuristikou na n (počtu předmětů)',\n",
    "    kind = 'bar',\n",
    ")"
   ]
  },
  {
   "cell_type": "markdown",
   "metadata": {},
   "source": [
    "Na grafu lze pozorovat lineární vzrůst výpočetního času při vzrůstu počtu předmětů. Rozdíl je však v relativně nepatrný. Na grafu je důležité si všimnout rozsahu vertikální osy, která se se pohybuje v desetinách milisekund. Příčina pozorovaného vzrůstu je pak dána nutností řadit delší pole předmětů, což výpočetní čas ovlivňuje relativně minimálně.\n",
    "\n",
    "Pokud bychom následovali lineární trend, citelnou časovou prodlevu bychom mohli pozorovat už při např. 100 000 předmětech, které by způsobily přibližně `133 ms` dlouhou prodlevu, za předpokladu, že takovou prodlevu předpokládáme za citelnou (tvrzení je spíše subjektivní záležitostí, nelze jednoznačně říct, co je dlouhá prodleva)."
   ]
  },
  {
   "cell_type": "markdown",
   "metadata": {},
   "source": [
    "### Relativní chyby při výpočtu heuristikou\n",
    "\n",
    "Jednoduchá heuristika, jako ta, která byla použita v této úloze, s největší pravděpodobností nebude schopná určit optimální řešení v každé instanci.\n",
    "\n",
    "Relativní chybou lze určit úspěšnost heuristického výpočtu vůči exaktního výpočtu hrubou silou. Relativní chyby jsou uvedeny v procentech."
   ]
  },
  {
   "cell_type": "code",
   "execution_count": null,
   "metadata": {},
   "outputs": [],
   "source": [
    "pd.options.mode.chained_assignment = None\n",
    "\n",
    "# Výpočet absolutních a relativních chyb u každého výpočtu heuristickou metodou\n",
    "heuristic_data = data[data['method'] == 'Heuristic']\n",
    "heuristic_data['error'] = heuristic_data['optimal_price'] - heuristic_data['price']\n",
    "heuristic_data['relative_error_%'] = (heuristic_data['error'] / heuristic_data['optimal_price']) * 100\n",
    "\n",
    "heuristic_data[['knap_id', 'item_count', 'optimal_price', 'price', 'error', 'relative_error_%']]"
   ]
  },
  {
   "cell_type": "code",
   "execution_count": null,
   "metadata": {},
   "outputs": [],
   "source": [
    "# Zpracování relativních chyb pro každý počet předmětů jednotlivě\n",
    "mean_vals = {}\n",
    "rows_cnt = {}\n",
    "max_vals = {}\n",
    "\n",
    "for index, row in heuristic_data.iterrows():\n",
    "    out_id = row['item_count']\n",
    "    error = row['relative_error_%']\n",
    "    \n",
    "    mean_vals[out_id] = mean_vals[out_id] + error if out_id in mean_vals else error\n",
    "    rows_cnt[out_id] = rows_cnt[out_id] + 1 if out_id in rows_cnt else 1\n",
    "    if out_id in max_vals:\n",
    "        max_vals[out_id] = error if error > max_vals[out_id] else max_vals[out_id]\n",
    "    else:\n",
    "        max_vals[out_id] = error\n",
    "    \n",
    "for index, row in mean_vals.items():\n",
    "    mean_vals[index] = row / rows_cnt[index]\n",
    "\n",
    "relative_errors = pd.DataFrame({'avg_rel_error_%': mean_vals, 'max_rel_error_%': max_vals})\n",
    "\n",
    "# Výpis průměru a maxima relativní chyby pro každý počet předmětů\n",
    "relative_errors"
   ]
  },
  {
   "cell_type": "code",
   "execution_count": null,
   "metadata": {},
   "outputs": [],
   "source": [
    "relative_errors.plot(\n",
    "    title = 'Relativní chyba v procentech v závislosti na n',\n",
    "    kind = 'bar',\n",
    ")"
   ]
  },
  {
   "cell_type": "code",
   "execution_count": null,
   "metadata": {},
   "outputs": [],
   "source": [
    "# Statistiky pro všechny počty předmětů dohromady\n",
    "relative_errors.describe()[1:][['avg_rel_error_%']]"
   ]
  },
  {
   "cell_type": "markdown",
   "metadata": {},
   "source": [
    "Na grafu lze pozorovat mírně vzrůstající trend průměrné relativní chyby při vzrůstajícím počtu předmětů. O lineární vzrůst však s největší pravděpodobností nepůjde a dalo by se spíše předpokládat, že hodnota průměrné chyby se limitně blíží k 50%. Lepší odhad by poskytl větší vzorek dat, pro větší počty předmětů.\n",
    "\n",
    "Grafická reprezentace maximální relativní chyby nenese žádnou podstatnou informaci (z grafu nelze vyčíst nic použitelného pro závěr)."
   ]
  },
  {
   "cell_type": "markdown",
   "metadata": {},
   "source": [
    "## Závěr\n",
    "\n",
    "Prvotní předpoklad, že výpočet problému batohu pomocí jednoduché heuristiky bude řádově rychlejší, než výpočet hrubou silou, se potvrdil. Na datech lze vidět důsledky složitosti algoritmu `O(2^n)`.\n",
    "\n",
    "Průměrná relativní chyba při řešení pomocí heuristiky se ukázala, že je spíše vyšší a tak se podstatně liší i kvalita řešení obou metod. Metoda řešení pomocí heuristiky totiž vrací spíše méně kvalitní řešení (často `<50%`).\n",
    "\n",
    "Lze tvrdit, že výpočet heuristikou se vyplácí až v bodě, kdy relativní chyba řešení nevzrůstá, protože víme, že časová náročnost řešení hrubou silou bude vzrůstat zaručeně vždy. K potvrzení tohoto tvrzení by byly vhodné další vzorky dat pro vyšší počty předmětů, aby mohl být trend relativní chyby jednoznačně určitelný. Výpočet dalších vzorků dat je však časově náročný a přesahuje hranice této úlohy.\n",
    "\n",
    "Zdrojové soubory úlohy lze najít na GitHubu. Link je uveden v hlavičce zprávy."
   ]
  }
 ],
 "metadata": {
  "kernelspec": {
   "display_name": "Python 3",
   "language": "python",
   "name": "python3"
  },
  "language_info": {
   "codemirror_mode": {
    "name": "ipython",
    "version": 3
   },
   "file_extension": ".py",
   "mimetype": "text/x-python",
   "name": "python",
   "nbconvert_exporter": "python",
   "pygments_lexer": "ipython3",
   "version": "3.6.3"
  }
 },
 "nbformat": 4,
 "nbformat_minor": 2
}
