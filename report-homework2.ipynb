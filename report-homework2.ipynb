{
 "cells": [
  {
   "cell_type": "markdown",
   "metadata": {},
   "source": [
    "## MI-PAA, Úloha 2: Řešení problému batohu dynamickým programováním, metodou větví a hranic a aproximativním algoritmem\n",
    "\n",
    "**Marián Hlaváč**, 11 Nov 2017 (hlavam30)  \n",
    "marian.hlavac@fit.cvut.cz  \n",
    "https://github.com/mmajko/knapsack-problem\n",
    "\n",
    "## Zadání úlohy\n",
    "\n",
    "- Naprogramujte řešení problému batohu:\n",
    "  - metodou větví a hranic (B&B) tak, aby omezujícím faktorem byla hodnota optimalizačního kritéria. Tj. použijte ořezávání shora (překročení kapacity batohu) i zdola (stávající řešení nemůže být lepší než nejlepší dosud nalezené),\n",
    "  - metodou dynamického programování (dekompozice podle kapacity nebo podle cen),\n",
    "  - FPTAS algoritmem, tj. s použitím modifikovaného dynamického programování s dekompozicí podle ceny (při použití dekompozice podle kapacity není algoritmus FPTAS).\n",
    "\n"
   ]
  },
  {
   "cell_type": "markdown",
   "metadata": {},
   "source": [
    "## Možné varianty řešení\n",
    "\n",
    "Problém batohu je možné řešit hrubou silou, heuristicky, dynamickým programováním, algoritmem \"meet-in-the-middle\" a dalšími způsoby. \n",
    "\n",
    "V minulé úloze jsme se zabývali řešením hrubou silou a urychlení výpočtu pomocí heuristik. V této úloze bylo využito dvou způsobů urychlení výpočtu. Jedním ze způsobů je lepší prořezávání stavového prostoru. Druhým způsobem je využití dynamického programování a pomocí aproximačního schématu plně polynomiálního času (FPTAS - fully polynomial-time approx. scheme).\n",
    "\n",
    "## Popis postupu řešení\n",
    "\n",
    "Algoritmus a celý program poskytující výsledky je napsán v jazyce *Rust*. Program načte instance z datových souborů určených pro tuto úlohu a vypočte řešení všemi implementovanými metodami. Zapíše délku provádění výpočtu a všechna data poskytne v CSV formátu. Druhým nástrojem je *Jupyter Notebook*, který poskytnutá data vizualizuje.\n",
    "\n",
    "Oproti minulé úlohy byl algoritmus hrubou silou přepsán z implementace pracující s bitovými maskami do rekurzivní varianty. Umožnilo to tak jednodušší implementaci Branch & Bound prořezávání.\n",
    "\n",
    "Prořezávání stavového prostoru obohacené o Branch & Bound zajistí, že je prostor prořezán shora i zdola. Větve rekurze, které by přesáhly kapacitu batohu, nebo by neposkytly lepší výsledek, než dosavadní dosažený jsou ořezány.\n",
    "\n",
    "Dynamické programování umožňuje zrychlení výpočtu na úkor pamětové náročnosti. Byla zvolena varianta dekompozice podle ceny, díky čemu pak lze snadno implementovat FPTAS.\n",
    "\n",
    "Konečně, FPTAS představuje způsob, jak ovlivňovat \"kvalitu\" a rychlost výpočtu. Vstupní proměnnou je možné definovat maximální relativní chybu. Čím větší je povolená tato relativní chyba, tím by měl být výpočet teoreticky rychlejší.\n",
    "\n",
    "### Kostra algoritmu\n",
    "\n",
    "Celý algoritmus je k nahlédnutí ve [zdrojových souborech programu na GitHubu](https://github.com/mmajko/knapsack-problem). Pro rychlou představu je níže uveden úryvek z funkce mající na starost FPTAS výpočet.\n",
    "\n",
    "```rust\n",
    "...\n",
    "    // Find the largest price in knapsack\n",
    "    let max_price = knap.items.iter().fold(0, |acc, &x| if x.price > acc { x.price } else { acc });\n",
    "    let ratio = (1.0 - accuracy) * max_price as f32 / knap.items.len() as f32;\n",
    "    \n",
    "    // Modify prices in knapsack\n",
    "    let mut mod_knap = knap.clone();\n",
    "    mod_knap.items = knap.items.iter().map(|item| { KnapItem { \n",
    "        id: item.id, weight: item.weight, price: f32::floor(item.price as f32 / ratio) as u16\n",
    "    } }).collect();\n",
    "    \n",
    "    // Solve with dynamic solver\n",
    "    let mut solution = solver_dynamic::solve(mod_knap);\n",
    "...\n",
    "```\n",
    "\n",
    "Branch & Bound drží v paměti nejlepší dosažený výsledek a před každým sestoupením do větve rekurze zkontroluje cenu zbývajících předmětů, které nebyly do batohu přidány. Pokud je tato cena sečtená s cenou batohu nižší, než nejlepší dosažený výsledek, je jasné, že prohledáváním této větve se k lepšímu výsledku již nemůžeme dostat a můžeme rekurzi na tomto místě ukončit.\n",
    "\n",
    "Dynamické programování přenáší výpočetní náročnosti na paměťovou náročnost. Držíme v paměti tabulku, do které ukládáme provedené výpočty. Konkrétně v této implementaci jde o dekompozici podle ceny. Do tabulky tak ukládáme výsledné váhy, sloupce představují ceny a řádky jednotlivé předměty. Výsledek pak nalezneme na posledním řádku v nejpravějším nenulovém sloupci.\n",
    "\n",
    "FPTAS pak pomocí formule upravující ceny předmětů umožní vložit do výpočtu další proměnnou, kterou lze výpočet ovlivnit. Efektivně jde o zanedbávání určitého počtu bitů hodnot ceny. Výpočet je až na pozměněné ceny totožný s výpočtem pomocí dynamického programování s kompozicí podle ceny a je tak použita stejný kód implementace."
   ]
  },
  {
   "cell_type": "markdown",
   "metadata": {},
   "source": [
    "## Surová naměřená (raw) data\n",
    "\n",
    "Níže uvedená tabulka je náhled na kompletní surová výstupní data z programu. Data lze získat jednoduchým způsobem (např. pro kontrolu) -- spuštěním skriptu `generate.sh`, který vytvoří soubor `results.csv` obsahující tato data.\n",
    "\n",
    "### Sloupce\n",
    "\n",
    "Názvy sloupců se vyskytují i dále v textu, zde je jejich stručný popis:\n",
    "\n",
    "- **knap_id** - identifikátor instance\n",
    "- **item_count** - počet předmětů (konfigurace instance)\n",
    "- **method** - metoda výpočtu\n",
    "  - *Recursive* - rekurzivní\n",
    "  - *BranchAndBound* - prořezávání Branch & Bound\n",
    "  - *Dynamic* - dynamickým programováním, dekompozice podle ceny\n",
    "  - *FPTAS25* - FPTAS s 25% přesností (max. rel. chybou 0.75)\n",
    "  - *FPTAS50* - FPTAS s 50% přesností (max. rel. chybou 0.50)\n",
    "  - *FPTAS75* - FPTAS s 75% přesností (max. rel. chybou 0.25)\n",
    "- **price** - vypočtená celková cena batohu\n",
    "- **elapsed_ms** - doba výpočtu v milisekundách\n",
    "- **optimal_price** - optimální cena batohu"
   ]
  },
  {
   "cell_type": "code",
   "execution_count": null,
   "metadata": {},
   "outputs": [],
   "source": [
    "import pandas as pd\n",
    "import numpy as np\n",
    "import matplotlib.pyplot as plt\n",
    "import matplotlib\n",
    "\n",
    "# Konfigurace vizualizace dat\n",
    "%matplotlib inline\n",
    "matplotlib.rcParams['figure.figsize'] = (12.0, 6.0)\n",
    "matplotlib.style.use('ggplot')\n",
    "pd.options.display.max_rows = 15\n",
    "\n",
    "# Čtení dat z běhu programu\n",
    "raw = pd.read_csv(\"results.csv\")\n",
    "solutions = pd.read_csv(\"solutions.csv\")\n",
    "\n",
    "data = pd.merge(left=raw, right=solutions, on='knap_id').drop('item_count_y', axis=1)\n",
    "data = data.rename(columns={\n",
    "                'price_x': 'price', \n",
    "                'price_y': 'optimal_price', \n",
    "                'item_count_x': 'item_count'\n",
    "            })\n",
    "\n",
    "data"
   ]
  },
  {
   "cell_type": "markdown",
   "metadata": {},
   "source": [
    "## Výsledky měření\n",
    "\n",
    "Níže jsou uvedeny výsledky derivované z dat. Rychlosti řešení jsou seskupeny podle počtu předmětů a zprůměrovány. Výsledné průměrné časy jsou ke každé metodě řešení uvedeny jak tabulkou, tak grafem.\n",
    "\n",
    "Měřítko grafů je lineární na vertikální ose."
   ]
  },
  {
   "cell_type": "markdown",
   "metadata": {},
   "source": [
    "### Průměrné rychlosti řešení pro všechny metody\n",
    "\n",
    "V tabulce níže lze porovnat, jaké byly průměrné rychlosti výpočtu pro různé počty předmětů v batohu. Uvedené časy jsou v milisekundách."
   ]
  },
  {
   "cell_type": "code",
   "execution_count": null,
   "metadata": {},
   "outputs": [],
   "source": [
    "# Výpočet všech průměrů\n",
    "methods = ['Recursive', 'BranchAndBound', 'Dynamic', 'FPTAS25', 'FPTAS50', 'FPTAS75']\n",
    "methods_data = list(map(lambda x: data[data['method'] == x].groupby('item_count').mean()[['elapsed_ms']], methods))\n",
    "\n",
    "# Sjednocení do jedné tabulky pro přehledný výpis\n",
    "comp_time = pd.concat(methods_data, axis=1, join='inner')\n",
    "comp_time.columns = ['recursive', 'branch&bound', 'dynamic', 'fptas25', 'fptas50', 'fptas75']\n",
    "\n",
    "comp_time"
   ]
  },
  {
   "cell_type": "code",
   "execution_count": null,
   "metadata": {},
   "outputs": [],
   "source": [
    "fig, axes = plt.subplots(nrows=2, ncols=2)\n",
    "\n",
    "axes[0, 0].set_title('Závislost času na poč. prvků: Rekurzivní výpočet')\n",
    "axes[0, 0].plot(comp_time[['recursive']], marker = 'o', ls = '', c = (230/256, 64/256, 57/256))\n",
    "axes[0, 1].set_title('Závislost času na poč. prvků: Branch & Bound')\n",
    "axes[0, 1].plot(comp_time[['branch&bound']], marker = 'o', ls = '', c = (34/256, 139/256, 186/256))\n",
    "axes[1, 0].set_title('Závislost času na poč. prvků: Dyn. programováním')\n",
    "axes[1, 0].plot(comp_time[['dynamic']], marker = 'o', ls = '', c = (149/256, 143/256, 210/256))\n",
    "axes[1, 1].set_title('Závislost času na poč. prvků: FPTAS (s 25% přesn.)')\n",
    "axes[1, 1].plot(comp_time[['fptas25']], marker = 'o', ls = '', c = (145/256, 145/256, 145/256))\n"
   ]
  },
  {
   "cell_type": "code",
   "execution_count": null,
   "metadata": {},
   "outputs": [],
   "source": [
    "# Vykreslení grafu znázorňující časovou náročnost pro všechny metody\n",
    "comp_time.plot(\n",
    "    title = 'Porovnání výpočetního času (v ms) všech metod na n (počtu předmětů)',\n",
    "    kind = 'bar',\n",
    ")"
   ]
  },
  {
   "cell_type": "code",
   "execution_count": null,
   "metadata": {},
   "outputs": [],
   "source": [
    "# Vykreslení grafu znázorňující časovou náročnost pro všechny metody kromě hrubé síly\n",
    "comp_time.loc[:, comp_time.columns != 'recursive'].plot(\n",
    "    title = 'Porovnání výpočetního času (v ms) metod bez hrubé síly na n (počtu předmětů)',\n",
    "    kind = 'bar',\n",
    ")"
   ]
  },
  {
   "cell_type": "markdown",
   "metadata": {},
   "source": [
    "Výsledky náročnosti výpočtu hrubou silou nejsou překvapivé, díky znalostem z minulé úlohy.\n",
    "\n",
    "Pokud prozkoumáme pouze metody, které jsou oproti minulé úloze \"nové\", lze vypozorovat a potvrdit tak, že rychlost vzrůstu náročnosti výpočtu při vzrůstajícím n je stejná jako rychlost vzrůstu při hrubé síle, ovšem lze vypozorovat znatelnou redukci výpočetního času. Výpočet je až **25 x** rychlejší, než výpočet hrubou silou.\n",
    "\n",
    "Ukazuje se, že metoda Branch & Bound může být často rychlejší, než řešení dynamickým programováním. Tento fakt nejvíce ovlivňuje charakteristika vstupních dat (optimální řešení se najde velmi brzo).\n",
    "\n",
    "Z grafů lze vyčíst, že se mou implementací nepodařilo potvrdit, že by výpočetní náročnost klesala s větší povolenou relativní chybou.\n",
    "\n"
   ]
  },
  {
   "cell_type": "markdown",
   "metadata": {},
   "source": [
    "### Porovnání relativní chyby u FPTAS\n",
    "\n",
    "Na grafu níže lze vidět jaké byly relativní chyby pro jednotlivé přesnosti (max. relativní chyby) algoritmu FPTAS.\n",
    "\n",
    "Sloupeček expected představuje očekávanou maximální relativní chybu. Maximum a minimum jsou krajní případy a mean je průměrná relativní chyba."
   ]
  },
  {
   "cell_type": "code",
   "execution_count": null,
   "metadata": {},
   "outputs": [],
   "source": [
    "pd.options.mode.chained_assignment = None\n",
    "\n",
    "# Výpočet absolutních a relativních chyb u každého výpočtu\n",
    "data_werr = data\n",
    "data_werr['error'] = data_werr['optimal_price'] - data_werr['price']\n",
    "data_werr['relative_error_%'] = (data_werr['error'] / data_werr['optimal_price']) * 100\n",
    "\n",
    "expected = { 'FPTAS25': 75, 'FPTAS50': 50, 'FPTAS75': 25 }\n",
    "minimum = { 'FPTAS25': 1, 'FPTAS50': 1, 'FPTAS75': 1 }\n",
    "maximum = { 'FPTAS25': 0, 'FPTAS50': 0, 'FPTAS75': 0 }\n",
    "means = { 'FPTAS25': 0, 'FPTAS50': 0, 'FPTAS75': 0 }\n",
    "samples = { 'FPTAS25': 0, 'FPTAS50': 0, 'FPTAS75': 0 }\n",
    "\n",
    "for index, row in data_werr.iterrows():\n",
    "    if row['method'].startswith('FPTAS'):\n",
    "        means[row['method']] += row['relative_error_%']\n",
    "        samples[row['method']] += 1\n",
    "        \n",
    "        if row['relative_error_%'] < minimum[row['method']]:\n",
    "            minimum[row['method']] = row['relative_error_%']\n",
    "        \n",
    "        if row['relative_error_%'] > maximum[row['method']]:\n",
    "            maximum[row['method']] = row['relative_error_%']\n",
    "            \n",
    "for index, row in means.items():\n",
    "    means[index] = row / samples[index]\n",
    "\n",
    "relative_errors = pd.DataFrame({\n",
    "    'minimum_rel_err_%': minimum,\n",
    "    'mean_rel_err_%': means,\n",
    "    'expected_rel_err_%': expected,\n",
    "    'maximum_rel_err_%': maximum\n",
    "})\n",
    "\n",
    "# Výpis průměru a maxima relativní chyby pro každý počet předmětů\n",
    "relative_errors"
   ]
  },
  {
   "cell_type": "code",
   "execution_count": null,
   "metadata": {},
   "outputs": [],
   "source": [
    "relative_errors.plot(kind = 'bar')\n"
   ]
  },
  {
   "cell_type": "markdown",
   "metadata": {},
   "source": [
    "Ukázalo se, že se průměrná chyba pohybovala daleko za hranicí očekávané relativní chyby, dokonce i maximální chyby se pohybovaly daleko od očekávané hranice.\n",
    "\n",
    "Minimální chyba byla vždy nulová. Některé instance se podařilo spočítat k optimální hodnotě."
   ]
  },
  {
   "cell_type": "markdown",
   "metadata": {},
   "source": [
    "## Závěr\n",
    "\n",
    "Urychlení výpočtu pomocí prořezávání a dynamickým programováním bylo úspěšné. Zrychlení výpočtu je daleko lepší, než zrychlení, kterého se podařilo dosáhnout v minulé úloze.\n",
    "\n",
    "U FPTAS se ovšem už takového úspěchu pravděpodobně nedosáhlo. Zrychlení oproti ostatním metodám není znatelné, naopak se v některých případech ukázala časová náročnost jako vyšší.\n",
    "\n",
    "Některé výpočty byly vypočteny skutečně s chybami, tyto chyby se průměrně pohybovaly kolem 2,6% (relativní chyba). Dalo by se však očekávat, že chyby budou daleko větší a více úzce kopírovat stanovenou hranici maximální relativní chyby. Zároveň se očekávalo další výrazné zrychlení. \n",
    "\n",
    "Vzhledem k tomu, že jsme byli schopní nalézt optimum v podobných časech, se FPTAS v tomto případě nevyplácí.\n",
    "\n",
    "Zdrojové soubory úlohy lze najít na GitHubu. Link je uveden v hlavičce zprávy."
   ]
  }
 ],
 "metadata": {
  "kernelspec": {
   "display_name": "Python 3",
   "language": "python",
   "name": "python3"
  },
  "language_info": {
   "codemirror_mode": {
    "name": "ipython",
    "version": 3
   },
   "file_extension": ".py",
   "mimetype": "text/x-python",
   "name": "python",
   "nbconvert_exporter": "python",
   "pygments_lexer": "ipython3",
   "version": "3.6.3"
  }
 },
 "nbformat": 4,
 "nbformat_minor": 2
}
